{
 "metadata": {
  "name": "",
  "signature": "sha256:86f1e666fa68cb5b218a3499f93fa8d2883f244aa3d3a0abfe9ef0bdbedc229e"
 },
 "nbformat": 3,
 "nbformat_minor": 0,
 "worksheets": [
  {
   "cells": [
    {
     "cell_type": "heading",
     "level": 1,
     "metadata": {},
     "source": [
      "Getting $LaTeX$ Resume Files"
     ]
    },
    {
     "cell_type": "markdown",
     "metadata": {},
     "source": [
      "The website http://www.rpi.edu/dept/arc/training/latex/resumes/ has\n",
      "a bunch of TeX resume files.  The most fun way to download them is by\n",
      "using BeautifulSoup and requests.  \n",
      "First, let's import the necessary modules."
     ]
    },
    {
     "cell_type": "code",
     "collapsed": false,
     "input": [
      "import bs4\n",
      "import requests\n",
      "import re\n",
      "import os\n",
      "from IPython.display import display"
     ],
     "language": "python",
     "metadata": {},
     "outputs": []
    },
    {
     "cell_type": "heading",
     "level": 2,
     "metadata": {},
     "source": [
      "Set up the soup!"
     ]
    },
    {
     "cell_type": "code",
     "collapsed": false,
     "input": [
      "url = 'http://www.rpi.edu/dept/arc/training/latex/resumes/'\n",
      "content = requests.get(url).content\n",
      "soup = bs4.BeautifulSoup(content)"
     ],
     "language": "python",
     "metadata": {},
     "outputs": []
    },
    {
     "cell_type": "markdown",
     "metadata": {},
     "source": [
      "We need all the anchor tags that point to a tex document or the\n",
      "corresponding pdf."
     ]
    },
    {
     "cell_type": "code",
     "collapsed": false,
     "input": [
      "anchors = soup.find_all('a')"
     ],
     "language": "python",
     "metadata": {},
     "outputs": []
    },
    {
     "cell_type": "markdown",
     "metadata": {},
     "source": [
      "Make sure tex anchors are really what we want:"
     ]
    },
    {
     "cell_type": "code",
     "collapsed": false,
     "input": [
      "display(anchors)"
     ],
     "language": "python",
     "metadata": {},
     "outputs": []
    },
    {
     "cell_type": "markdown",
     "metadata": {},
     "source": [
      "Save all the files to an example folder."
     ]
    },
    {
     "cell_type": "code",
     "collapsed": false,
     "input": [
      "dest = 'example_resumes' \n",
      "os.makedirs(dest, exist_ok=True)\n",
      "for a in anchors:\n",
      "    link = url + a['href']\n",
      "    response = requests.get(link)\n",
      "    with open(os.path.join(dest, a['href']), 'wb') as f:\n",
      "        f.write(response.content)"
     ],
     "language": "python",
     "metadata": {},
     "outputs": []
    }
   ],
   "metadata": {}
  }
 ]
}